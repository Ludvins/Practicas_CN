{
 "cells": [
  {
   "cell_type": "markdown",
   "metadata": {},
   "source": [
    "*Luis Antonio Ortega Andrés       \n",
    "Antonio Coín Castro*"
   ]
  },
  {
   "cell_type": "code",
   "execution_count": 36,
   "metadata": {
    "ExecuteTime": {
     "end_time": "2020-10-14T11:52:23.134988Z",
     "start_time": "2020-10-14T11:52:23.129534Z"
    }
   },
   "outputs": [],
   "source": [
    "import numpy as np\n",
    "import matplotlib.pyplot as plt\n",
    "from scipy.stats import uniform, norm, cauchy, t, expon\n",
    "import scipy.integrate as integrate\n",
    "import seaborn as sns\n",
    "from scipy import clip"
   ]
  },
  {
   "cell_type": "markdown",
   "metadata": {},
   "source": [
    "# Algoritmo de aceptación y rechazo (A/R)"
   ]
  },
  {
   "cell_type": "markdown",
   "metadata": {},
   "source": [
    "## Ejercicio 1\n",
    "\n",
    "Supongamos la función\n",
    "$$\n",
    "f(x)=\\sin(2\\pi x)^5−2\\sin\\left(3\\cos\\left(\\frac{x}{\\pi}\\right)^2\\right)^3 +3\n",
    "$$\n",
    "y el intervalo $(a,b)=(0,10)$. Estimar el área delimitada por la función $f(x)$  en el intervalo $(a,b)$. Evaluar (gráficamente) la precisión (incertidumbre) de la estimación.\n",
    "\n",
    "*Nota*: la función original se ha modificado porque no coincidía con la gráfica que se muestra en los apuntes."
   ]
  },
  {
   "cell_type": "code",
   "execution_count": null,
   "metadata": {
    "ExecuteTime": {
     "end_time": "2020-10-12T10:24:28.890788Z",
     "start_time": "2020-10-12T10:24:28.888123Z"
    }
   },
   "outputs": [],
   "source": [
    "def plot_f(f, x):\n",
    "    plt.title(\"Gráfica de f\")\n",
    "    plt.plot(x,f(x))\n",
    "    plt.show()"
   ]
  },
  {
   "cell_type": "code",
   "execution_count": null,
   "metadata": {
    "ExecuteTime": {
     "end_time": "2020-10-12T10:24:29.021440Z",
     "start_time": "2020-10-12T10:24:28.892576Z"
    }
   },
   "outputs": [],
   "source": [
    "# Mostramos la función\n",
    "f = lambda x: np.sin(2*np.pi*x)**5 -2*np.sin(3*np.cos(x/np.pi)**2)**3 + 3\n",
    "x = np.arange(0, 10, 0.01)\n",
    "plot_f(f,x)"
   ]
  },
  {
   "cell_type": "markdown",
   "metadata": {},
   "source": [
    "Implementamos el algoritmo de aceptación/rechazo por Monte Carlo."
   ]
  },
  {
   "cell_type": "code",
   "execution_count": null,
   "metadata": {
    "ExecuteTime": {
     "end_time": "2020-10-12T10:24:29.027319Z",
     "start_time": "2020-10-12T10:24:29.022751Z"
    }
   },
   "outputs": [],
   "source": [
    "def mc_ar(f, xlims, ylims, samples = 50000, plot = False, verbose = False):\n",
    "    x = uniform.rvs(xlims[0], xlims[1] - xlims[0], samples)\n",
    "    y = uniform.rvs(ylims[0], ylims[1] - ylims[0], samples)\n",
    "    good = y <= f(x)\n",
    "    wrong = np.logical_not(good)\n",
    "    if plot:\n",
    "        plt.scatter(x[good], y[good], s=1, color=\"red\")\n",
    "        plt.scatter(x[wrong], y[wrong], s=1, color=\"blue\")\n",
    "        plt.title(f\"Aciertos (rojo) y fallos (azul), nsamples={samples}\")\n",
    "        plt.show()\n",
    "    area_rect = (xlims[1] - xlims[0])*(ylims[1]- ylims[0])\n",
    "    mean = np.mean(good)\n",
    "    area = area_rect*mean\n",
    "    if verbose:\n",
    "        print(\"Resultado integración:\", integrate.quad(f, *xlims, limit=100)[0], \n",
    "              \"\\nEstimación A/R:\", area)\n",
    "    return area"
   ]
  },
  {
   "cell_type": "markdown",
   "metadata": {},
   "source": [
    "Probamos este método de integración con nuestra función $f$ en $[0,10]\\times[0,5]$, y vemos que conseguimos una buena estimación."
   ]
  },
  {
   "cell_type": "code",
   "execution_count": null,
   "metadata": {
    "ExecuteTime": {
     "end_time": "2020-10-12T10:24:29.200261Z",
     "start_time": "2020-10-12T10:24:29.028505Z"
    }
   },
   "outputs": [],
   "source": [
    "res_ar = mc_ar(f, (0,10), (0,5), samples=50000, plot=True, verbose = True)"
   ]
  },
  {
   "cell_type": "markdown",
   "metadata": {},
   "source": [
    "Podemos tomar la función que se daba en los apuntes, que toma valores negativos y calcular su area restando su parte positiva a su parte negativa."
   ]
  },
  {
   "cell_type": "code",
   "execution_count": null,
   "metadata": {
    "ExecuteTime": {
     "end_time": "2020-10-12T10:24:29.484536Z",
     "start_time": "2020-10-12T10:24:29.201411Z"
    }
   },
   "outputs": [],
   "source": [
    "f1 = lambda x: np.sin(2*np.pi*x)**5 -2*np.cos(3*np.cos(x/np.pi)**2)**3\n",
    "x = np.arange(0, 10, 0.01)\n",
    "f1_max = lambda x: f1(x).clip(min=0)\n",
    "f1_min = lambda x: np.abs(f1(x).clip(max=0))\n",
    "fig, axes = plt.subplots(1,3, figsize=(17,5))\n",
    "axes[0].plot(x, f1(x))\n",
    "axes[1].plot(x, f1_max(x))\n",
    "axes[2].plot(x, f1_min(x))\n",
    "axes[0].set_title(\"Función original\")\n",
    "axes[1].set_title(\"Parte positiva\")\n",
    "axes[2].set_title(\"Parte negativa\")\n",
    "plt.show()"
   ]
  },
  {
   "cell_type": "code",
   "execution_count": null,
   "metadata": {
    "ExecuteTime": {
     "end_time": "2020-10-12T10:24:29.911925Z",
     "start_time": "2020-10-12T10:24:29.485645Z"
    }
   },
   "outputs": [],
   "source": [
    "print(\"Parte positiva:\")\n",
    "area_pos = mc_ar(f1_max, (0,10), (0,4), samples=50000, plot=True, verbose = True)\n",
    "print(\"\\nParte negativa:\")\n",
    "area_neg = mc_ar(f1_min, (0,10), (0,4), samples=50000, plot=True, verbose = True)\n",
    "\n",
    "print(\"\\nResultado integración total:\", integrate.quad(f1, 0,10)[0], \n",
    "              \"\\nEstimación total A/R:\", area_pos - area_neg)"
   ]
  },
  {
   "cell_type": "markdown",
   "metadata": {},
   "source": [
    "Para evaluar gráficamente la precisión del método, repetimos el experimento 1000 veces, primero utilizando 1000 lanzamientos en el método A/R, y después utilizando 10000. Pintamos la densidad y la distribución empírica obtenida, y observamos que se asemeja a una normal."
   ]
  },
  {
   "cell_type": "code",
   "execution_count": null,
   "metadata": {
    "ExecuteTime": {
     "end_time": "2020-10-12T10:24:31.578143Z",
     "start_time": "2020-10-12T10:24:29.913747Z"
    }
   },
   "outputs": [],
   "source": [
    "n1, n2 = 1000, 10000\n",
    "nrep = 1000\n",
    "res1 = np.array([mc_ar(f, (0,10), (0, 5), n1) for _ in range(nrep)])\n",
    "res2 = np.array([mc_ar(f, (0,10), (0, 5), n2) for _ in range(nrep)])"
   ]
  },
  {
   "cell_type": "code",
   "execution_count": null,
   "metadata": {
    "ExecuteTime": {
     "end_time": "2020-10-12T10:24:31.584552Z",
     "start_time": "2020-10-12T10:24:31.579825Z"
    }
   },
   "outputs": [],
   "source": [
    "# Función para dibujar las gráficas\n",
    "def plot_kde_ecdf(x1, x2, labels, value):\n",
    "    _, axes = plt.subplots(1, 2, figsize=(15,5))\n",
    "    axes[0].set_title(f\"Densidad en {len(x1)} repeticiones con N lanzamientos\")\n",
    "    sns.kdeplot(x1, ax = axes[0], fill = True, label=labels[0])\n",
    "    sns.kdeplot(x2, ax = axes[0], fill = True, label=labels[1])\n",
    "    ylims = axes[0].get_ylim()\n",
    "    axes[0].vlines(value, *ylims, color = \"red\")\n",
    "    axes[0].set_ylim(*ylims)\n",
    "    axes[0].set_xlabel(\"Área estimada\")\n",
    "    axes[1].set_title(\"Distribución empírica\")\n",
    "    sns.ecdfplot(x1, ax = axes[1], label=labels[0])\n",
    "    sns.ecdfplot(x2, ax = axes[1], label=labels[1])\n",
    "    axes[1].set_xlabel(\"Área estimada\")\n",
    "    axes[0].legend()\n",
    "    axes[1].legend()"
   ]
  },
  {
   "cell_type": "code",
   "execution_count": null,
   "metadata": {
    "ExecuteTime": {
     "end_time": "2020-10-12T10:24:31.892867Z",
     "start_time": "2020-10-12T10:24:31.586350Z"
    }
   },
   "outputs": [],
   "source": [
    "plot_kde_ecdf(res1, res2, [f\"N={n1}\", f\"N={n2}\"], res_ar)"
   ]
  },
  {
   "cell_type": "markdown",
   "metadata": {},
   "source": [
    "# Algoritmo basado en medias"
   ]
  },
  {
   "cell_type": "markdown",
   "metadata": {},
   "source": [
    "## Ejercicio 2\n",
    "\n",
    "Calcula la integral\n",
    "$$\n",
    "\\int_0^1 (1-x^2)^{1/2}\\,dx = \\frac{\\pi}{4}\n",
    "$$"
   ]
  },
  {
   "cell_type": "code",
   "execution_count": null,
   "metadata": {
    "ExecuteTime": {
     "end_time": "2020-10-12T10:24:32.009821Z",
     "start_time": "2020-10-12T10:24:31.894475Z"
    }
   },
   "outputs": [],
   "source": [
    "# Mostramos la función\n",
    "h = lambda x: (1-x**2)**(0.5)\n",
    "x=np.arange(0,1,0.01)\n",
    "plot_f(h,x)"
   ]
  },
  {
   "cell_type": "markdown",
   "metadata": {},
   "source": [
    "Implementamos el algoritmo de Monte Carlo basado en medias."
   ]
  },
  {
   "cell_type": "code",
   "execution_count": null,
   "metadata": {
    "ExecuteTime": {
     "end_time": "2020-10-12T10:24:32.013397Z",
     "start_time": "2020-10-12T10:24:32.011021Z"
    }
   },
   "outputs": [],
   "source": [
    "def mc_means(h, samples = 10000):\n",
    "    x = uniform.rvs(0, 1, samples)\n",
    "    return np.mean(h(x))"
   ]
  },
  {
   "cell_type": "code",
   "execution_count": null,
   "metadata": {
    "ExecuteTime": {
     "end_time": "2020-10-12T10:24:32.025476Z",
     "start_time": "2020-10-12T10:24:32.014876Z"
    }
   },
   "outputs": [],
   "source": [
    "res_means = mc_means(h)\n",
    "print(\"Valor obtenido por MC: \", res_means, \"\\nValor real: \", np.pi/4)"
   ]
  },
  {
   "cell_type": "markdown",
   "metadata": {},
   "source": [
    "Comparamos la distribución de 5000 repeticiones del algoritmo basado en medias y del algoritmo de A/R, ambos con 10000 lanzamientos."
   ]
  },
  {
   "cell_type": "code",
   "execution_count": null,
   "metadata": {
    "ExecuteTime": {
     "end_time": "2020-10-12T10:24:34.797896Z",
     "start_time": "2020-10-12T10:24:32.027208Z"
    }
   },
   "outputs": [],
   "source": [
    "nrep=5000\n",
    "n=10000\n",
    "res1 = np.array([mc_ar(h, (0,1), (0, 2), n) for _ in range(nrep)])\n",
    "res2 = np.array([mc_means(h, n) for _ in range(nrep)])"
   ]
  },
  {
   "cell_type": "code",
   "execution_count": null,
   "metadata": {
    "ExecuteTime": {
     "end_time": "2020-10-12T10:24:35.193208Z",
     "start_time": "2020-10-12T10:24:34.799109Z"
    }
   },
   "outputs": [],
   "source": [
    "plot_kde_ecdf(res1, res2, [\"A/R, N=10000\", \"Basado en medias U(0,1), N=10000\"], np.pi/4)"
   ]
  },
  {
   "cell_type": "markdown",
   "metadata": {},
   "source": [
    "Realizamos ahora varias repeticiones de la estimación basada en medias, aumentando paulatinamente el número de puntos desde 1 hasta 50000, proporcionando también un intervalo de confianza al 99.5% en cada caso. A la hora de dibujarlo comenzamos desde 50 puntos para visualizarlo mejor, ya que con pocos puntos la varianza es muy grande."
   ]
  },
  {
   "cell_type": "code",
   "execution_count": null,
   "metadata": {
    "ExecuteTime": {
     "end_time": "2020-10-12T10:24:35.198211Z",
     "start_time": "2020-10-12T10:24:35.194498Z"
    }
   },
   "outputs": [],
   "source": [
    "def mc_means_cummulative(h, x, alpha = 0.005, offset=0):\n",
    "    y = h(x)\n",
    "    \n",
    "    # Establecemos la sucesión de puntos\n",
    "    size = np.arange(start = 1, stop = len(x)+1, step = 1)\n",
    "\n",
    "    # Calculamos la media de h progresivamente en todos los puntos \n",
    "    media = np.cumsum(y) / size\n",
    "\n",
    "    # Calculamos el valor z_alpha para el intervalo de confianza\n",
    "    z_alpha = norm.ppf(1-alpha/2)\n",
    "\n",
    "    # Calculamos la varianza\n",
    "    s2 = (y - media) * (y - media)\n",
    "    s2[1:] = np.cumsum(s2)[1:]/size[0:-1]\n",
    "    \n",
    "    # Calculamos el intervalo de confianza\n",
    "    ic = z_alpha*np.sqrt(s2)/np.sqrt(size)\n",
    "\n",
    "    return media[offset:], ic[offset:]"
   ]
  },
  {
   "cell_type": "code",
   "execution_count": null,
   "metadata": {
    "ExecuteTime": {
     "end_time": "2020-10-12T10:24:35.278984Z",
     "start_time": "2020-10-12T10:24:35.199624Z"
    }
   },
   "outputs": [],
   "source": [
    "def cum_sample_plot(f, n_samples, real_value = None, offset = 0, ax = None, print_ic = False):\n",
    "    x = uniform.rvs(0,1, n_samples + offset)\n",
    "    \n",
    "    size=np.arange(start = offset+1, stop = len(x)+1, step = 1)\n",
    "    \n",
    "    if ax is None:\n",
    "        fig, ax = plt.subplots()\n",
    "    \n",
    "    media, ic = mc_means_cummulative(f, x, alpha=0.005, offset=offset)\n",
    "    sns.lineplot(x = np.arange(start = 1, stop = len(media)+1, step = 1), y = media, lw=.2, ax=ax)\n",
    "    if real_value is not None:\n",
    "        ax.plot([offset, len(x)], 2*[real_value], color='k', lw=.75)\n",
    "    ax.set_xlabel(\"Sample size\")\n",
    "    ax.set_ylabel(r\"Estimated integral value\")\n",
    "    ax.set_title(r\"Importance sampling, $\\mathcal{U}(0,1)$, $\\alpha=0.005$\")\n",
    "\n",
    "    if print_ic:\n",
    "        # Dibujamos los intervalos de confianza de forma continua\n",
    "        ax.fill_between(size, media-ic, media+ic, color='b', alpha=.1)\n"
   ]
  },
  {
   "cell_type": "code",
   "execution_count": null,
   "metadata": {
    "ExecuteTime": {
     "end_time": "2020-10-12T10:24:39.687494Z",
     "start_time": "2020-10-12T10:24:35.280557Z"
    }
   },
   "outputs": [],
   "source": [
    "cum_sample_plot(h, 50000, np.pi/4, 50, print_ic = True)\n",
    "plt.show()"
   ]
  },
  {
   "cell_type": "markdown",
   "metadata": {},
   "source": [
    "Ahora realizamos 100 ejecuciones independientes del experimento desde 1 hasta 30000 puntos, y mostramos los resultados."
   ]
  },
  {
   "cell_type": "code",
   "execution_count": null,
   "metadata": {
    "ExecuteTime": {
     "end_time": "2020-10-12T10:28:11.421463Z",
     "start_time": "2020-10-12T10:24:39.688787Z"
    }
   },
   "outputs": [],
   "source": [
    "import sys\n",
    "\n",
    "fig, ax = plt.subplots()\n",
    "ax.set_title(\"100 independent simulations\")\n",
    "ax.set_xlabel(\"Sample size\")\n",
    "ax.set_ylabel(r\"Estimated integral value, $\\pi/4$\")\n",
    "\n",
    "for i in range(100):\n",
    "    # Display waiting bar\n",
    "    sys.stdout.write('\\r')\n",
    "    sys.stdout.write(\"Calculando las 100 iteraciones del experimento: [%-20s] %d%%\" % ('='*((i+5)//5), i+1))\n",
    "    sys.stdout.flush()\n",
    "    \n",
    "    cum_sample_plot(h, 30000, offset = 50, ax = ax, print_ic = False)\n",
    "\n",
    "ax.plot([0, 30000], 2*[np.pi/4], color='k', lw=.75)\n",
    "plt.show()"
   ]
  },
  {
   "cell_type": "markdown",
   "metadata": {},
   "source": [
    "# Muestreo por importancia\n",
    "## Ejercicio 3"
   ]
  },
  {
   "cell_type": "markdown",
   "metadata": {},
   "source": [
    "Estimar la integral\n",
    "$$\n",
    "\\int_0^1 \\cos(50x)+\\sin(20x)\\, dx\n",
    "$$\n",
    "\n",
    "por Monte Carlo. Analice la convergencia de la estimación en función del tamaño de la muestra y proporcione un intervalo de confianza."
   ]
  },
  {
   "cell_type": "code",
   "execution_count": null,
   "metadata": {
    "ExecuteTime": {
     "end_time": "2020-10-12T10:28:11.555124Z",
     "start_time": "2020-10-12T10:28:11.422822Z"
    }
   },
   "outputs": [],
   "source": [
    "f3=lambda x: np.cos(50*x)+np.sin(20*x)\n",
    "x=np.arange(0, 1, 0.01)\n",
    "plot_f(f3,x)"
   ]
  },
  {
   "cell_type": "markdown",
   "metadata": {},
   "source": [
    "Aplicamos el método de *importance sampling* como antes, proporcionando intervalos de confianza."
   ]
  },
  {
   "cell_type": "code",
   "execution_count": null,
   "metadata": {
    "ExecuteTime": {
     "end_time": "2020-10-12T10:28:11.558473Z",
     "start_time": "2020-10-12T10:28:11.556325Z"
    }
   },
   "outputs": [],
   "source": [
    "# Calculamos el área real\n",
    "area=(1/50) *(5 * np.sin(10)**2 + np.sin(50))"
   ]
  },
  {
   "cell_type": "code",
   "execution_count": null,
   "metadata": {
    "ExecuteTime": {
     "end_time": "2020-10-12T10:28:12.405608Z",
     "start_time": "2020-10-12T10:28:11.559625Z"
    }
   },
   "outputs": [],
   "source": [
    "cum_sample_plot(f3, 10000, area, 50, print_ic = True)\n",
    "plt.show()"
   ]
  },
  {
   "cell_type": "markdown",
   "metadata": {},
   "source": [
    "## Ejercicio 4"
   ]
  },
  {
   "cell_type": "markdown",
   "metadata": {},
   "source": [
    "Estimar el valor de la integral\n",
    "$$\n",
    "\\int_0^{10}e^{-2|x-5|}.\n",
    "$$"
   ]
  },
  {
   "cell_type": "markdown",
   "metadata": {},
   "source": [
    "Definimos una generalización del método de *importance sampling* donde se puede pasar cualquier función de densidad que se quiera utilizar como argumento a la función. "
   ]
  },
  {
   "cell_type": "code",
   "execution_count": 102,
   "metadata": {
    "ExecuteTime": {
     "end_time": "2020-10-14T14:16:03.535084Z",
     "start_time": "2020-10-14T14:16:03.526359Z"
    }
   },
   "outputs": [],
   "source": [
    "def importance_sampling_cum(f, generative, density, samples=10000, alpha = 0.005, offset=0):    \n",
    "    x = generative(samples)\n",
    "    y = f(x)/[density(a) for a in x]\n",
    "    # Establecemos la sucesión de puntos\n",
    "    size = np.arange(start = 1, stop = samples+1, step = 1)\n",
    "    # Calculamos la media de h progresivamente en todos los puntos \n",
    "    media = np.cumsum(y) / size\n",
    "    # Calculamos el valor z_alpha para el intervalo de confianza\n",
    "    z_alpha = norm.ppf(1-alpha/2)\n",
    "\n",
    "    # Calculamos la varianza\n",
    "    s2 = (y - media) * (y - media)\n",
    "\n",
    "    s2[1:] = np.cumsum(s2)[1:]/size[0:-1]\n",
    "\n",
    "    # Calculamos el intervalo de confianza\n",
    "    ic = z_alpha*np.sqrt(s2)/np.sqrt(size)\n",
    "\n",
    "    return media[offset:], ic[offset:]"
   ]
  },
  {
   "cell_type": "markdown",
   "metadata": {},
   "source": [
    "Pintamos la función que buscamos integrar."
   ]
  },
  {
   "cell_type": "code",
   "execution_count": null,
   "metadata": {
    "ExecuteTime": {
     "end_time": "2020-10-12T10:28:12.578375Z",
     "start_time": "2020-10-12T10:28:12.413118Z"
    }
   },
   "outputs": [],
   "source": [
    "f4 = lambda x: np.exp(-2*np.abs(x - 5))\n",
    "plot_f(f4, np.arange(0, 10, 0.01))"
   ]
  },
  {
   "cell_type": "markdown",
   "metadata": {},
   "source": [
    "Pintamos por un lado la función junto con las densidades que se van a utilizar en el método de integración, y por otro la convergencia que muestra el método con cada una de estas densidades."
   ]
  },
  {
   "cell_type": "code",
   "execution_count": null,
   "metadata": {
    "ExecuteTime": {
     "end_time": "2020-10-12T10:28:24.367745Z",
     "start_time": "2020-10-12T10:28:12.579669Z"
    }
   },
   "outputs": [],
   "source": [
    "_, axes = plt.subplots(1, 2, figsize=(15,5))\n",
    "\n",
    "# Axes 0\n",
    "x = np.arange(0, 10, 0.01)\n",
    "axes[0].set_title(\"Comparativa de f con densidades\")\n",
    "axes[0].plot(x,f4(x), label = \"f(x)\")\n",
    "axes[0].plot([0,10], 2*[1/10], '--', label = r\"$\\mathcal{U}(0,10)$\")\n",
    "axes[0].plot(x, norm.pdf(x, 5, 1), '--', label=r'$\\mathcal{N}(5,1)$')\n",
    "axes[0].legend()\n",
    "\n",
    "samples = 50000\n",
    "offset = 50\n",
    "\n",
    "generative1 = lambda x: uniform.rvs(0, 10, x)\n",
    "generative2 = lambda x: norm.rvs(5, 1, x)\n",
    "\n",
    "# First experiment\n",
    "media1, ic1 = importance_sampling(f4, generative1, density = lambda x: 1/10, \n",
    "                                  samples=samples + offset, alpha=0.005, offset=offset)\n",
    "sns.lineplot(x = np.arange(start = 1, stop = samples+1, step = 1), y = media1, lw=.2, \n",
    "             color = 'orange', ax=axes[1], label = r'$\\mathcal{U}(0, 10)$')\n",
    "\n",
    "# Second experiment\n",
    "media2, ic2 = importance_sampling(f4, generative2, density = lambda x: norm.pdf(x,5,1), \n",
    "                                  samples=samples + offset, alpha=0.005, offset=offset)\n",
    "sns.lineplot(x = np.arange(start = 1, stop = samples+1, step = 1), y = media2, lw=.2, \n",
    "             color = 'b', ax=axes[1], label = r'$\\mathcal{N}(5,1)$')\n",
    "\n",
    "axes[1].fill_between(np.arange(start = 1, stop = samples+1, step = 1), media2-ic2, \n",
    "                     media2+ic2, color='b', alpha=.1)\n",
    "axes[1].plot([0, samples], 2*[1], '--', lw = 1, color = \"black\")\n",
    "axes[1].set_title(\"Repeticiones de los experimentos con aumento paulatino del número de puntos\")\n",
    "plt.show()"
   ]
  },
  {
   "cell_type": "markdown",
   "metadata": {},
   "source": [
    "## Ejercicio 5"
   ]
  },
  {
   "cell_type": "markdown",
   "metadata": {},
   "source": [
    "Suponed que desconocemos la c.d.f. de una v.a  N(0,1) . Aproximar por Monte Carlo el área bajo la p.d.f en el intervalo  [−50,50] . Esta cantidad será extremadamente cercana a 1, \"de hecho\" es 1. Este ejercicio es muy ilustrativo aunque su interés sea puramente académico.\n",
    "\n",
    "Utilizaremos una serie de funciones de muestreo de importancia para ilustrar el método:\n",
    "\n",
    "una densidad uniforme  U(−50,50) ,\n",
    "una densidad Cauchy truncada en el intervalo  [−50,50] \n",
    "una distribución  t  de 30 grados de libertad truncada en el mismo intervalo."
   ]
  },
  {
   "cell_type": "code",
   "execution_count": 14,
   "metadata": {
    "ExecuteTime": {
     "end_time": "2020-10-13T17:37:29.842273Z",
     "start_time": "2020-10-13T17:37:29.468814Z"
    }
   },
   "outputs": [
    {
     "data": {
      "image/png": "[encoded data removed]",
      "text/plain": [
       "<Figure size 1080x360 with 3 Axes>"
      ]
     },
     "metadata": {
      "needs_background": "light"
     },
     "output_type": "display_data"
    }
   ],
   "source": [
    "x = np.arange(-50, 50, 0.01)\n",
    "fig, axes = plt.subplots(1,3, figsize=(15,5))\n",
    "axes[0].set_title(\"Uniform distribution\")\n",
    "axes[0].plot(x, norm.pdf(x))\n",
    "axes[0].plot(x, uniform.pdf(x, -50, 100), '--')\n",
    "axes[0].set_xlim(-5, 5)\n",
    "\n",
    "axes[1].set_title(\"Cauchy distribution\")\n",
    "axes[1].plot(x, norm.pdf(x))\n",
    "axes[1].plot(x, cauchy.pdf(x), '--')\n",
    "axes[1].set_xlim(-5, 5)\n",
    "\n",
    "axes[2].set_title(\"t-distribution\")\n",
    "axes[2].plot(x, norm.pdf(x))\n",
    "axes[2].plot(x, t.pdf(x, 30), '--')\n",
    "axes[2].set_xlim(-5, 5)\n",
    "\n",
    "plt.show()"
   ]
  },
  {
   "cell_type": "code",
   "execution_count": 23,
   "metadata": {
    "ExecuteTime": {
     "end_time": "2020-10-14T11:21:16.299927Z",
     "start_time": "2020-10-14T11:21:16.297514Z"
    }
   },
   "outputs": [],
   "source": [
    "def importance_sampling(f, generative_f, density_f, samples):\n",
    "    x = generative_f(samples)\n",
    "    y = f(x)/density_f(x)\n",
    "    return np.mean(y)"
   ]
  },
  {
   "cell_type": "code",
   "execution_count": 13,
   "metadata": {
    "ExecuteTime": {
     "end_time": "2020-10-13T17:37:29.467189Z",
     "start_time": "2020-10-13T17:37:22.351166Z"
    }
   },
   "outputs": [
    {
     "data": {
      "image/png": "[encoded data removed]",
      "text/plain": [
       "<Figure size 1080x360 with 3 Axes>"
      ]
     },
     "metadata": {
      "needs_background": "light"
     },
     "output_type": "display_data"
    }
   ],
   "source": [
    "samples = 1000\n",
    "n_rep = 5000\n",
    "offset = 0\n",
    "\n",
    "g1 = lambda x: uniform.rvs(-50, 100, size =  x)\n",
    "g2 = lambda x: np.clip(cauchy.rvs(size = x), -50, 50)\n",
    "g3 = lambda x: np.clip(t.rvs(30, size = x), -50, 50)\n",
    "\n",
    "d1 = lambda x: uniform.pdf(x, -50, 100)\n",
    "d2 = lambda x: cauchy.pdf(x)\n",
    "d3 = lambda x: t.pdf(x, 30)\n",
    "\n",
    "fig, axes = plt.subplots(1,3, figsize=(15,5))\n",
    "res1 = [importance_sampling(norm.pdf, g1, d1, samples) for _ in range(n_rep)]\n",
    "res2 = [importance_sampling(norm.pdf, g2, d2, samples) for _ in range(n_rep)]\n",
    "res3 = [importance_sampling(norm.pdf, g3, d3, samples) for _ in range(n_rep)]\n",
    "\n",
    "sns.histplot(res1, ax=axes[0])\n",
    "sns.histplot(res2, ax=axes[1])\n",
    "sns.histplot(res3, ax=axes[2])\n",
    "\n",
    "axes[0].set_xlim(0.5, 1.5)\n",
    "axes[1].set_xlim(0.5, 1.5)\n",
    "axes[2].set_xlim(0.5, 1.5)\n",
    "\n",
    "\n",
    "plt.show()"
   ]
  },
  {
   "cell_type": "markdown",
   "metadata": {},
   "source": [
    "## Ejercicio 6"
   ]
  },
  {
   "cell_type": "markdown",
   "metadata": {},
   "source": [
    "Un error común del muestreo por importancia consiste en despreciar la contribución de las colas de las distribuciones. Aunque la función de importancia  f(x)  pueda tener aproximadamente la misma forma que  g(x) , surgirán dificultades serias si  f(x)  disminuye más rápidamente que  g(x)  en las colas. En tal caso, aunque es improbable que aparezca un valor  Xi  perteneciente a la cola lejana de  f(x) ,  Xi  es un evento raro, si lo hace, entonces el estimador de Monte Carlo se verá seriamente afectado por el valor de  g(x)/f(x)  correspondiente a  Xi .\n",
    "En estas circunstancias el ratio  g(Xi)f(Xi)  puede ser varios órdenes de magnitud mayor que los valores típicos de  g(X)f(X) .\n",
    "\n",
    "La siguiente figura muestra el histograma de 5000 estimaciones de Monte Carlo del área entre -50 y 50 de densidad de una distribución de Cauchy (truncada en -50 y 50 y renormalizada de modo que el área exacta sea 1) cuando se utiliza como función de importancia la densidad normal estándar (que, obviamente, decrece en las colas mucho más rápidamente que la distribución de Cauchy). Nótese en particular que alrededor de 43 de las 5,000 estimaciones de Monte Carlo para el área de la función de Cauchy truncada fueron mayores que 1.5, en este ejemplo algunas incluso fue superior a 53!!."
   ]
  },
  {
   "cell_type": "code",
   "execution_count": 26,
   "metadata": {
    "ExecuteTime": {
     "end_time": "2020-10-14T11:22:05.530260Z",
     "start_time": "2020-10-14T11:22:01.893266Z"
    }
   },
   "outputs": [],
   "source": [
    "norm_const = integrate.quad(cauchy.pdf, -50, 50)[0]\n",
    "norm_const\n",
    "f = lambda x: cauchy.pdf(x)/norm_const\n",
    "\n",
    "means = [importance_sampling(f, lambda x: norm.rvs(0,1,x), lambda x:norm.pdf(x), samples=5000) for _ in range(5000)]"
   ]
  },
  {
   "cell_type": "code",
   "execution_count": 29,
   "metadata": {
    "ExecuteTime": {
     "end_time": "2020-10-14T11:25:39.565467Z",
     "start_time": "2020-10-14T11:25:39.247544Z"
    }
   },
   "outputs": [
    {
     "data": {
      "text/plain": [
       "<AxesSubplot:ylabel='Count'>"
      ]
     },
     "execution_count": 29,
     "metadata": {},
     "output_type": "execute_result"
    },
    {
     "data": {
      "image/png": "[encoded data removed]",
      "text/plain": [
       "<Figure size 432x288 with 1 Axes>"
      ]
     },
     "metadata": {
      "needs_background": "light"
     },
     "output_type": "display_data"
    }
   ],
   "source": [
    "sns.histplot(means, binrange=(0.7, 1.5))"
   ]
  },
  {
   "cell_type": "markdown",
   "metadata": {},
   "source": [
    "## Ejercicio 7"
   ]
  },
  {
   "cell_type": "code",
   "execution_count": 126,
   "metadata": {
    "ExecuteTime": {
     "end_time": "2020-10-14T15:01:55.366492Z",
     "start_time": "2020-10-14T15:01:55.362274Z"
    }
   },
   "outputs": [],
   "source": [
    "g = lambda x: expon.rvs(1,1, x) + 4.5\n",
    "d = lambda x: np.exp(x - 4.5)"
   ]
  },
  {
   "cell_type": "code",
   "execution_count": 128,
   "metadata": {
    "ExecuteTime": {
     "end_time": "2020-10-14T15:02:29.663615Z",
     "start_time": "2020-10-14T15:02:29.656498Z"
    }
   },
   "outputs": [
    {
     "name": "stdout",
     "output_type": "stream",
     "text": [
      "a\n",
      "b\n",
      "c\n"
     ]
    }
   ],
   "source": [
    "samples = 2000\n",
    "offset = 20\n",
    "f = lambda x: norm.pdf(x)\n",
    "\n",
    "media, ic = importance_sampling_cum(f, generative = g, density = d, samples = samples, alpha = 0.005, offset = 30)\n"
   ]
  },
  {
   "cell_type": "code",
   "execution_count": 130,
   "metadata": {
    "ExecuteTime": {
     "end_time": "2020-10-14T15:03:05.462049Z",
     "start_time": "2020-10-14T15:03:04.841684Z"
    }
   },
   "outputs": [
    {
     "data": {
      "text/plain": [
       "<AxesSubplot:>"
      ]
     },
     "execution_count": 130,
     "metadata": {},
     "output_type": "execute_result"
    },
    {
     "data": {
      "image/png": "[encoded data removed]",
      "text/plain": [
       "<Figure size 432x288 with 1 Axes>"
      ]
     },
     "metadata": {
      "needs_background": "light"
     },
     "output_type": "display_data"
    }
   ],
   "source": [
    "sns.lineplot(x = np.arange(start = 1, stop = len(media)+1, step = 1), y = media, lw=.2)\n"
   ]
  },
  {
   "cell_type": "code",
   "execution_count": null,
   "metadata": {},
   "outputs": [],
   "source": []
  }
 ],
 "metadata": {
  "author": "",
  "kernelspec": {
   "display_name": "Python 3",
   "language": "python",
   "name": "python3"
  },
  "language_info": {
   "codemirror_mode": {
    "name": "ipython",
    "version": 3
   },
   "file_extension": ".py",
   "mimetype": "text/x-python",
   "name": "python",
   "nbconvert_exporter": "python",
   "pygments_lexer": "ipython3",
   "version": "3.8.5"
  },
  "latex_envs": {
   "LaTeX_envs_menu_present": true,
   "autoclose": false,
   "autocomplete": true,
   "bibliofile": "biblio.bib",
   "cite_by": "apalike",
   "current_citInitial": 1,
   "eqLabelWithNumbers": true,
   "eqNumInitial": 1,
   "hotkeys": {
    "equation": "Ctrl-E",
    "itemize": "Ctrl-I"
   },
   "labels_anchors": false,
   "latex_user_defs": false,
   "report_style_numbering": false,
   "user_envs_cfg": false
  },
  "toc": {
   "base_numbering": 1,
   "nav_menu": {},
   "number_sections": true,
   "sideBar": true,
   "skip_h1_title": false,
   "title_cell": "Table of Contents",
   "title_sidebar": "Contents",
   "toc_cell": false,
   "toc_position": {
    "height": "calc(100% - 180px)",
    "left": "10px",
    "top": "150px",
    "width": "165px"
   },
   "toc_section_display": true,
   "toc_window_display": true
  }
 },
 "nbformat": 4,
 "nbformat_minor": 4
}
