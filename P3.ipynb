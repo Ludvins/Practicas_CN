{
 "cells": [
  {
   "cell_type": "markdown",
   "metadata": {},
   "source": [
    " *Luis Antonio Ortega Andrés     \n",
    "Antonio Coín Castro*"
   ]
  },
  {
   "cell_type": "markdown",
   "metadata": {},
   "source": [
    "# Cuestiones previas"
   ]
  },
  {
   "cell_type": "markdown",
   "metadata": {},
   "source": [
    "**Pregunta 1.** ¿Dado un conjunto de $n$ puntos, existe siempre un polinomio de grado $m < n-1$ que pase por dichos puntos?\n",
    "\n",
    "No\n",
    "\n",
    "**Pregunta 2.** ¿Se te ocurre una manera en la cual el cálculo de los valores singulares de una matriz permita calcular un polinomio de regresión adecuado?\n",
    "\n",
    "No\n",
    "\n",
    "\n",
    "**Pregunta 3.** ¿Como podrías transformar el problema de encontrar un polinomio de regresión en un problema de producto de matrices?\n",
    "\n",
    "No podría.\n",
    "\n",
    "\n",
    "**Pregunta 4.** ¿Crees que, además, es posible calcular el error de regresión a partir de los valores singulares?\n",
    "\n",
    "No\n"
   ]
  },
  {
   "cell_type": "markdown",
   "metadata": {},
   "source": [
    "# Ejercicios"
   ]
  },
  {
   "cell_type": "markdown",
   "metadata": {},
   "source": [
    "## Apartado 1\n",
    "\n",
    "Considera los sigiuentes conjuntos de puntos:"
   ]
  },
  {
   "cell_type": "code",
   "execution_count": 52,
   "metadata": {
    "ExecuteTime": {
     "end_time": "2020-10-08T19:15:22.725209Z",
     "start_time": "2020-10-08T19:15:22.720233Z"
    }
   },
   "outputs": [],
   "source": [
    "x = [0, 0.25, 0.5, 0.75, 1]\n",
    "y = [1, 1.2840, 1.6487, 2.1170, 2.7183]"
   ]
  },
  {
   "cell_type": "markdown",
   "metadata": {},
   "source": [
    "Vamos a buscar el polinomio $P_2(x) = a_0 + a_1x + a_2x^2$ que minimiza el error al aproximar los datos anteriores usando la norma estándar de $\\mathbb{R}^n$. Es decir, vamos a usar una regresión cuadrática.\n",
    "\n",
    "- Vamos a escribir el problema de regresión como un problema de interpolación sobredimensionado asumiendo que el polinomio $P2(x)$ pasa por todos los puntos $x_i,y_i$. Para ello escribiremos el problema en la forma $Xa = y$ donde $X$ es una matriz $5 \\times 3$, $a$ es un vector $3 \\times 1$ e $y$ es un vector $5 \\times 1$. "
   ]
  },
  {
   "cell_type": "code",
   "execution_count": 59,
   "metadata": {
    "ExecuteTime": {
     "end_time": "2020-10-08T19:16:11.368806Z",
     "start_time": "2020-10-08T19:16:11.361020Z"
    }
   },
   "outputs": [
    {
     "name": "stdout",
     "output_type": "stream",
     "text": [
      "[[1.     0.     0.    ]\n",
      " [1.     0.25   0.0625]\n",
      " [1.     0.5    0.25  ]\n",
      " [1.     0.75   0.5625]\n",
      " [1.     1.     1.    ]]\n"
     ]
    }
   ],
   "source": [
    "import numpy as np\n",
    "X = np.vander(x, 3, increasing=True)\n",
    "print(X)"
   ]
  },
  {
   "cell_type": "markdown",
   "metadata": {},
   "source": [
    "- Calculad la descomposición en valores singulares $X = U S V^T$ de la matriz $X$ que habéis encontrado en el apartado anterior. Utilizad los apuntes de clase para obtener los valores singulares de $X$ y para construir las matrices $U$ de $5\\times 5$, $S$ de $5\\times 3$ y $V$ $3\\times3$."
   ]
  },
  {
   "cell_type": "code",
   "execution_count": 60,
   "metadata": {
    "ExecuteTime": {
     "end_time": "2020-10-08T19:16:14.918201Z",
     "start_time": "2020-10-08T19:16:14.914202Z"
    }
   },
   "outputs": [],
   "source": [
    "U, S, V = np.linalg.svd(X)"
   ]
  },
  {
   "cell_type": "code",
   "execution_count": 61,
   "metadata": {
    "ExecuteTime": {
     "end_time": "2020-10-08T19:16:15.352969Z",
     "start_time": "2020-10-08T19:16:15.348266Z"
    }
   },
   "outputs": [
    {
     "name": "stdout",
     "output_type": "stream",
     "text": [
      "[[-0.29454913  0.63267484  0.63140925 -0.02576091 -0.33707876]\n",
      " [-0.346616    0.45500901 -0.21036331  0.28091869  0.74138797]\n",
      " [-0.41593037  0.19422733 -0.52439676 -0.68819061 -0.20169135]\n",
      " [-0.50249224 -0.14967019 -0.3106911   0.63666879 -0.47246617]\n",
      " [-0.60630161 -0.57668356  0.43075367 -0.20363596  0.26984831]]\n"
     ]
    }
   ],
   "source": [
    "print(U)"
   ]
  },
  {
   "cell_type": "code",
   "execution_count": 62,
   "metadata": {
    "ExecuteTime": {
     "end_time": "2020-10-08T19:16:15.849832Z",
     "start_time": "2020-10-08T19:16:15.847167Z"
    }
   },
   "outputs": [
    {
     "name": "stdout",
     "output_type": "stream",
     "text": [
      "[2.71168512 0.93707467 0.16268803]\n"
     ]
    }
   ],
   "source": [
    "print(S)"
   ]
  },
  {
   "cell_type": "code",
   "execution_count": 63,
   "metadata": {
    "ExecuteTime": {
     "end_time": "2020-10-08T19:16:16.574617Z",
     "start_time": "2020-10-08T19:16:16.572284Z"
    }
   },
   "outputs": [
    {
     "name": "stdout",
     "output_type": "stream",
     "text": [
      "[[-0.7987245  -0.4712162  -0.37415833]\n",
      " [ 0.59286357 -0.51017309 -0.62308604]\n",
      " [ 0.10272272 -0.71949893  0.68685467]]\n"
     ]
    }
   ],
   "source": [
    "print(V)"
   ]
  },
  {
   "cell_type": "markdown",
   "metadata": {},
   "source": [
    "## Apartado 2"
   ]
  },
  {
   "cell_type": "markdown",
   "metadata": {},
   "source": [
    "Se puede demostrar (de hecho, no es muy difícil), que los valores $a = (a_0, a_1, a_2)$ del polinomio que buscamos se pueden obtener mediante el siguiente producto de matrices\n",
    "$$\n",
    "a = Vz\n",
    "$$\n",
    "El vector $z = (c_1/s_1, c_2/s_2, c_3/s_3)$, donde los valores si corresponden a los valores singulares de la\n",
    "matriz $X$ y los valores $c_i$ corresponden a los tres primeros valores del vector obtenido al\n",
    "multiplicar la matriz $U^T$ por $y = (y_1, y_2, y_3, y_4, y_5)$."
   ]
  },
  {
   "cell_type": "code",
   "execution_count": null,
   "metadata": {},
   "outputs": [],
   "source": []
  },
  {
   "cell_type": "markdown",
   "metadata": {},
   "source": [
    "Algo como (teniendo en cuenta vectores completos en lugar de los que da python):\n",
    "$$\n",
    "USV^T a = y\n",
    "$$\n",
    "$$\n",
    "SV^Ta = U^Ty\n",
    "$$\n",
    "$$\n",
    "V^T a = S^{-1}U^Ty = z \\implies a = Vz = VS^{-1}U^Ty\n",
    "$$\n"
   ]
  },
  {
   "cell_type": "code",
   "execution_count": 66,
   "metadata": {
    "ExecuteTime": {
     "end_time": "2020-10-08T19:16:26.714804Z",
     "start_time": "2020-10-08T19:16:26.711229Z"
    }
   },
   "outputs": [],
   "source": [
    "c = U.T@y\n",
    "z = c[:3]/S\n",
    "a = V.T@z"
   ]
  },
  {
   "cell_type": "code",
   "execution_count": 67,
   "metadata": {
    "ExecuteTime": {
     "end_time": "2020-10-08T19:16:27.184512Z",
     "start_time": "2020-10-08T19:16:27.178787Z"
    }
   },
   "outputs": [
    {
     "data": {
      "text/plain": [
       "array([1.00513714, 1.27391143, 1.64814286, 2.12783143, 2.71297714])"
      ]
     },
     "execution_count": 67,
     "metadata": {},
     "output_type": "execute_result"
    }
   ],
   "source": [
    "X@a"
   ]
  },
  {
   "cell_type": "markdown",
   "metadata": {},
   "source": [
    "Algo no funciona. X@a deberia ser \"y\""
   ]
  },
  {
   "cell_type": "markdown",
   "metadata": {},
   "source": [
    "## Apartado 3"
   ]
  },
  {
   "cell_type": "markdown",
   "metadata": {},
   "source": [
    "Apartado 3: Se puede demostrar también (es más fácil aun) que el error cometido con la regresión obtenida para los valores es $E = \\sqrt{c_4^2 + c_5^2}$, calculad el error y comparadlo con el cálculo manual del error \n",
    "$$\n",
    "\\sqrt{\\sum_{i=1}^5 (P_2(x_i) - y_i)^2}\n",
    "$$"
   ]
  },
  {
   "cell_type": "code",
   "execution_count": 39,
   "metadata": {
    "ExecuteTime": {
     "end_time": "2020-10-08T18:28:53.360593Z",
     "start_time": "2020-10-08T18:28:53.356431Z"
    }
   },
   "outputs": [],
   "source": [
    "e_t = np.sqrt(c[3]**2 + c[4]**2)"
   ]
  },
  {
   "cell_type": "code",
   "execution_count": 40,
   "metadata": {
    "ExecuteTime": {
     "end_time": "2020-10-08T18:29:39.478765Z",
     "start_time": "2020-10-08T18:29:39.476143Z"
    }
   },
   "outputs": [],
   "source": [
    "e_r = np.sum((X@a - y)**2)"
   ]
  },
  {
   "cell_type": "code",
   "execution_count": 41,
   "metadata": {
    "ExecuteTime": {
     "end_time": "2020-10-08T18:29:44.403510Z",
     "start_time": "2020-10-08T18:29:44.398394Z"
    }
   },
   "outputs": [
    {
     "name": "stdout",
     "output_type": "stream",
     "text": [
      "0.016556949339433746\n"
     ]
    }
   ],
   "source": [
    "print(e_t)"
   ]
  },
  {
   "cell_type": "code",
   "execution_count": 42,
   "metadata": {
    "ExecuteTime": {
     "end_time": "2020-10-08T18:29:48.653606Z",
     "start_time": "2020-10-08T18:29:48.649877Z"
    }
   },
   "outputs": [
    {
     "name": "stdout",
     "output_type": "stream",
     "text": [
      "5.830295835955804\n"
     ]
    }
   ],
   "source": [
    "print(e_r)"
   ]
  },
  {
   "cell_type": "markdown",
   "metadata": {},
   "source": [
    "# Ejercicio opcional"
   ]
  },
  {
   "cell_type": "markdown",
   "metadata": {},
   "source": [
    "- ¿Qué obtenemos cuando aplicamos el método de los apartados 1 y 2 a la construcción de un polinomio de grado 4?\n",
    "- Comprueba que, efectivamente el polinomio obtenido se corresponde en este caso a un polinomio de interpolación en lugar de a un polinomio de regresión."
   ]
  },
  {
   "cell_type": "code",
   "execution_count": 43,
   "metadata": {
    "ExecuteTime": {
     "end_time": "2020-10-08T18:40:04.850946Z",
     "start_time": "2020-10-08T18:40:04.847798Z"
    }
   },
   "outputs": [
    {
     "name": "stdout",
     "output_type": "stream",
     "text": [
      "[[1.       0.       0.       0.      ]\n",
      " [1.       0.25     0.0625   0.015625]\n",
      " [1.       0.5      0.25     0.125   ]\n",
      " [1.       0.75     0.5625   0.421875]\n",
      " [1.       1.       1.       1.      ]]\n"
     ]
    }
   ],
   "source": [
    "X = np.vander(x, 4, increasing=True)\n",
    "print(X)"
   ]
  },
  {
   "cell_type": "code",
   "execution_count": null,
   "metadata": {},
   "outputs": [],
   "source": []
  }
 ],
 "metadata": {
  "author": "mes",
  "kernelspec": {
   "display_name": "Python 3",
   "language": "python",
   "name": "python3"
  },
  "language_info": {
   "codemirror_mode": {
    "name": "ipython",
    "version": 3
   },
   "file_extension": ".py",
   "mimetype": "text/x-python",
   "name": "python",
   "nbconvert_exporter": "python",
   "pygments_lexer": "ipython3",
   "version": "3.8.5"
  },
  "latex_envs": {
   "LaTeX_envs_menu_present": true,
   "autoclose": false,
   "autocomplete": true,
   "bibliofile": "biblio.bib",
   "cite_by": "apalike",
   "current_citInitial": 1,
   "eqLabelWithNumbers": true,
   "eqNumInitial": 1,
   "hotkeys": {
    "equation": "Ctrl-E",
    "itemize": "Ctrl-I"
   },
   "labels_anchors": false,
   "latex_user_defs": false,
   "report_style_numbering": false,
   "user_envs_cfg": false
  },
  "toc": {
   "base_numbering": 1,
   "nav_menu": {},
   "number_sections": true,
   "sideBar": true,
   "skip_h1_title": false,
   "title_cell": "Table of Contents",
   "title_sidebar": "Contents",
   "toc_cell": false,
   "toc_position": {},
   "toc_section_display": true,
   "toc_window_display": true
  }
 },
 "nbformat": 4,
 "nbformat_minor": 4
}
